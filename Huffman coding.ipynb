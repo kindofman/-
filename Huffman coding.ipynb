{
 "cells": [
  {
   "cell_type": "code",
   "execution_count": 1,
   "metadata": {},
   "outputs": [
    {
     "name": "stdout",
     "output_type": "stream",
     "text": [
      "sgdfgasdfas\n",
      "5 26\n",
      "s: 01\n",
      "d: 000\n",
      "a: 001\n",
      "f: 10\n",
      "g: 11\n",
      "01110001011001010001000101\n"
     ]
    }
   ],
   "source": [
    "string = input()\n",
    "s = set(string) #Создаем множество букв\n",
    "line = [] #очередь\n",
    "d = {} #будущий словарь-шифратор\n",
    "\n",
    "for i in s:\n",
    "    freq = string.count(i)\n",
    "    line.append((i, freq))\n",
    "\n",
    "new_line = list() #будущая итоговая очередь с приоритетом\n",
    "\n",
    "while line[1:]:\n",
    "    line = sorted(line, key=lambda x: x[1], reverse=True)\n",
    "    left = line.pop() # достаем 2 буквы с наименьшим приоритетом\n",
    "    right = line.pop() #\n",
    "    new_line.extend([left, right]) # кладем наши листья в новую очередь\n",
    "    line.append((left[0] + right[0], left[1] + right[1])) # добавляем новый лист в очередь, который складывается из двух\n",
    "k = len(s)\n",
    "\n",
    "code = ''\n",
    "ls = list(new_line)\n",
    "def coding(letter): #функция для кодирования буквы\n",
    "    global code\n",
    "    global ls\n",
    "    \n",
    "    if not new_line:\n",
    "        return '0'\n",
    "    while ls:\n",
    "        left = ls[-1]\n",
    "        right = ls[-2]\n",
    "\n",
    "        if letter in left[0]:\n",
    "            code += '0'\n",
    "            var = left\n",
    "        elif letter in right[0]:\n",
    "            code += '1'\n",
    "            var = right\n",
    "        else:\n",
    "            return code\n",
    "        \n",
    "        ls_new = []\n",
    "        for i in ls: # обрезаем наше дерево. Спустились на лист ниже, все остальное удаляем, чтобы не мешалось.\n",
    "            if i[0] in var[0]:\n",
    "                ls_new.append(i)\n",
    "\n",
    "        ls_new.remove(var)\n",
    "        ls = ls_new\n",
    "    return code\n",
    "\n",
    "for letter in s:\n",
    "    code = ''\n",
    "    ls = list(new_line)\n",
    "    d[letter] = coding(letter)\n",
    "\n",
    "codes = ''\n",
    "#print(string)\n",
    "for i in string:\n",
    "    codes += d[i]\n",
    "    \n",
    "k = len(s)\n",
    "print(k, len(codes))\n",
    "for i, j in d.items():\n",
    "    print(i, j, sep=': ')\n",
    "    \n",
    "print(codes)\n",
    "\n"
   ]
  },
  {
   "cell_type": "code",
   "execution_count": null,
   "metadata": {},
   "outputs": [],
   "source": []
  }
 ],
 "metadata": {
  "kernelspec": {
   "display_name": "Python 3",
   "language": "python",
   "name": "python3"
  },
  "language_info": {
   "codemirror_mode": {
    "name": "ipython",
    "version": 3
   },
   "file_extension": ".py",
   "mimetype": "text/x-python",
   "name": "python",
   "nbconvert_exporter": "python",
   "pygments_lexer": "ipython3",
   "version": "3.6.5"
  }
 },
 "nbformat": 4,
 "nbformat_minor": 2
}
